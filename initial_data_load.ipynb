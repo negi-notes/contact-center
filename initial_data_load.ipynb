{
 "cells": [
  {
   "cell_type": "code",
   "execution_count": 1,
   "metadata": {},
   "outputs": [],
   "source": [
    "import pandas as pd\n",
    "import zipfile\n",
    "import requests\n",
    "import os"
   ]
  },
  {
   "cell_type": "markdown",
   "metadata": {},
   "source": [
    "## Download data from S3\n",
    "\n",
    "Note, the file for the ubuntu data is large - expect the next cell to take several seconds to run."
   ]
  },
  {
   "cell_type": "code",
   "execution_count": 2,
   "metadata": {},
   "outputs": [
    {
     "name": "stdout",
     "output_type": "stream",
     "text": [
      "Beginning data download.\n",
      "Complete, status: 200, content:application/zip\n"
     ]
    }
   ],
   "source": [
    "import requests\n",
    "\n",
    "print('Beginning data download.')\n",
    "\n",
    "url = 'https://edgetier.s3-eu-west-1.amazonaws.com/ubunbu-code-test-data/ubuntu_support_extract.csv.zip'  \n",
    "r = requests.get(url)\n",
    "\n",
    "with open('./data/ubuntu_support_data.csv.zip', 'wb') as fh:  \n",
    "    fh.write(r.content)\n",
    "\n",
    "# Retrieve HTTP meta-data\n",
    "print(f\"Complete, status: {r.status_code}, content:{r.headers['content-type']}\")  "
   ]
  },
  {
   "cell_type": "markdown",
   "metadata": {},
   "source": [
    "## Unzipping data"
   ]
  },
  {
   "cell_type": "code",
   "execution_count": 3,
   "metadata": {},
   "outputs": [
    {
     "name": "stdout",
     "output_type": "stream",
     "text": [
      "Unzipping Data\n",
      "Data unzipped!\n"
     ]
    },
    {
     "data": {
      "text/plain": [
       "['empty.txt', 'ubuntu_support_data.csv.zip', 'ubuntu_support_extract.csv']"
      ]
     },
     "execution_count": 3,
     "metadata": {},
     "output_type": "execute_result"
    }
   ],
   "source": [
    "print (\"Unzipping Data\")\n",
    "with zipfile.ZipFile(\"./data/ubuntu_support_data.csv.zip\", 'r') as file:\n",
    "    file.extractall(\"./data/\")\n",
    "\n",
    "print(\"Data unzipped!\")\n",
    "os.listdir(\"./data\")"
   ]
  },
  {
   "cell_type": "markdown",
   "metadata": {},
   "source": [
    "## Loading data"
   ]
  },
  {
   "cell_type": "code",
   "execution_count": 4,
   "metadata": {},
   "outputs": [
    {
     "data": {
      "text/html": [
       "<div>\n",
       "<style scoped>\n",
       "    .dataframe tbody tr th:only-of-type {\n",
       "        vertical-align: middle;\n",
       "    }\n",
       "\n",
       "    .dataframe tbody tr th {\n",
       "        vertical-align: top;\n",
       "    }\n",
       "\n",
       "    .dataframe thead th {\n",
       "        text-align: right;\n",
       "    }\n",
       "</style>\n",
       "<table border=\"1\" class=\"dataframe\">\n",
       "  <thead>\n",
       "    <tr style=\"text-align: right;\">\n",
       "      <th></th>\n",
       "      <th>conversation_id</th>\n",
       "      <th>datetime</th>\n",
       "      <th>from</th>\n",
       "      <th>to</th>\n",
       "      <th>text</th>\n",
       "    </tr>\n",
       "  </thead>\n",
       "  <tbody>\n",
       "    <tr>\n",
       "      <th>0</th>\n",
       "      <td>10-10000</td>\n",
       "      <td>2010-04-17 20:15:00+00:00</td>\n",
       "      <td>fk91</td>\n",
       "      <td>NaN</td>\n",
       "      <td>Hello, I have a minimal linux system: how can ...</td>\n",
       "    </tr>\n",
       "    <tr>\n",
       "      <th>1</th>\n",
       "      <td>10-10000</td>\n",
       "      <td>2010-04-17 20:15:00+00:00</td>\n",
       "      <td>fk91</td>\n",
       "      <td>NaN</td>\n",
       "      <td>@Maco: ip is there, thanks :)</td>\n",
       "    </tr>\n",
       "    <tr>\n",
       "      <th>2</th>\n",
       "      <td>10-10000</td>\n",
       "      <td>2010-04-17 20:15:00+00:00</td>\n",
       "      <td>sometux</td>\n",
       "      <td>fk91</td>\n",
       "      <td>ifconfig</td>\n",
       "    </tr>\n",
       "    <tr>\n",
       "      <th>3</th>\n",
       "      <td>10-10000</td>\n",
       "      <td>2010-04-17 20:15:00+00:00</td>\n",
       "      <td>sometux</td>\n",
       "      <td>fk91</td>\n",
       "      <td>static or dhcp</td>\n",
       "    </tr>\n",
       "    <tr>\n",
       "      <th>4</th>\n",
       "      <td>10-10000</td>\n",
       "      <td>2010-04-17 20:16:00+00:00</td>\n",
       "      <td>fk91</td>\n",
       "      <td>NaN</td>\n",
       "      <td>static</td>\n",
       "    </tr>\n",
       "  </tbody>\n",
       "</table>\n",
       "</div>"
      ],
      "text/plain": [
       "  conversation_id                   datetime     from    to  \\\n",
       "0        10-10000  2010-04-17 20:15:00+00:00     fk91   NaN   \n",
       "1        10-10000  2010-04-17 20:15:00+00:00     fk91   NaN   \n",
       "2        10-10000  2010-04-17 20:15:00+00:00  sometux  fk91   \n",
       "3        10-10000  2010-04-17 20:15:00+00:00  sometux  fk91   \n",
       "4        10-10000  2010-04-17 20:16:00+00:00     fk91   NaN   \n",
       "\n",
       "                                                text  \n",
       "0  Hello, I have a minimal linux system: how can ...  \n",
       "1                      @Maco: ip is there, thanks :)  \n",
       "2                                           ifconfig  \n",
       "3                                     static or dhcp  \n",
       "4                                             static  "
      ]
     },
     "execution_count": 4,
     "metadata": {},
     "output_type": "execute_result"
    }
   ],
   "source": [
    "# Load the data into a pandas data frame and print:\n",
    "data = pd.read_csv(\"./data/ubuntu_support_extract.csv\")\n",
    "data.head()"
   ]
  },
  {
   "cell_type": "code",
   "execution_count": 5,
   "metadata": {},
   "outputs": [
    {
     "data": {
      "text/plain": [
       "(3075574, 5)"
      ]
     },
     "execution_count": 5,
     "metadata": {},
     "output_type": "execute_result"
    }
   ],
   "source": [
    "data.shape"
   ]
  },
  {
   "cell_type": "code",
   "execution_count": null,
   "metadata": {},
   "outputs": [],
   "source": []
  }
 ],
 "metadata": {
  "kernelspec": {
   "display_name": "Python 3",
   "language": "python",
   "name": "python3"
  },
  "language_info": {
   "codemirror_mode": {
    "name": "ipython",
    "version": 3
   },
   "file_extension": ".py",
   "mimetype": "text/x-python",
   "name": "python",
   "nbconvert_exporter": "python",
   "pygments_lexer": "ipython3",
   "version": "3.7.3"
  }
 },
 "nbformat": 4,
 "nbformat_minor": 2
}
